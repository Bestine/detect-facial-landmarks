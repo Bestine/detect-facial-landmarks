{
 "cells": [
  {
   "cell_type": "markdown",
   "id": "fd18a4e7",
   "metadata": {},
   "source": [
    "**Load the required libraries and packages**"
   ]
  },
  {
   "cell_type": "code",
   "execution_count": 10,
   "id": "47eb7d4f",
   "metadata": {},
   "outputs": [],
   "source": [
    "from imutils import face_utils\n",
    "import numpy as np\n",
    "from collections import OrderedDict\n",
    "import argparse\n",
    "import imutils\n",
    "import dlib\n",
    "import cv2"
   ]
  },
  {
   "cell_type": "code",
   "execution_count": 11,
   "id": "c73fdded",
   "metadata": {},
   "outputs": [],
   "source": [
    "FACIAL_LANDMARKS_IDKS = OrderedDict([\n",
    "    (\"mouth\", (48, 68)),\n",
    "    (\"right_eyebrow\", (17, 22)),\n",
    "    (\"left_eyebrow\", (22, 27)),\n",
    "    (\"right_eye\", (36, 42)),\n",
    "    (\"left_eye\", (42, 48)),\n",
    "    (\"nose\", (27, 35)),\n",
    "    (\"jaw\", (0, 17))\n",
    "])"
   ]
  },
  {
   "cell_type": "code",
   "execution_count": 12,
   "id": "5515ddd0",
   "metadata": {},
   "outputs": [],
   "source": [
    "def visualize_facial_landmarks(image, shape, colors=None, alpha=0.75):\n",
    "    overlay = image.copy()\n",
    "    output = image.copy()\n",
    "    \n",
    "    if colors is None:\n",
    "        colors = [(19, 199, 109),(79, 76, 240),(230, 159, 23),\n",
    "                (168, 100, 168),(158, 163, 32),\n",
    "                (163, 38, 32),(180, 42, 220)]\n",
    "    \n",
    "    for (i, name) in enumerate(FACIAL_LANDMARKS_IDKS.keys()):\n",
    "        (j, k) = FACIAL_LANDMARKS_IDKS[name]\n",
    "        pts = shape[j:k]\n",
    "        \n",
    "        if name == \"jaw\":\n",
    "            for l in range(1, len(pts)):\n",
    "                ptA = tuple(pts[l - 1])\n",
    "                ptB = tuple(pts[l])\n",
    "                cv2.line(overlay, ptA, ptB, colors[i], 2)\n",
    "        else:\n",
    "            hull = cv2.convexHull(pts)\n",
    "            cv2.drawContours(overlay, alpha, output, 1 - alpha, 0, output)\n",
    "            \n",
    "    return output"
   ]
  },
  {
   "cell_type": "code",
   "execution_count": 13,
   "id": "c8a278b7",
   "metadata": {},
   "outputs": [],
   "source": [
    "import skimage"
   ]
  }
 ],
 "metadata": {
  "kernelspec": {
   "display_name": "Python 3 (ipykernel)",
   "language": "python",
   "name": "python3"
  },
  "language_info": {
   "codemirror_mode": {
    "name": "ipython",
    "version": 3
   },
   "file_extension": ".py",
   "mimetype": "text/x-python",
   "name": "python",
   "nbconvert_exporter": "python",
   "pygments_lexer": "ipython3",
   "version": "3.8.10"
  }
 },
 "nbformat": 4,
 "nbformat_minor": 5
}
